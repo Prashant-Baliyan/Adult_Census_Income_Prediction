{
 "cells": [
  {
   "cell_type": "code",
   "execution_count": 1,
   "metadata": {},
   "outputs": [],
   "source": [
    "from incomeprediction.component.data_transformation import datatransformation\n",
    "from incomeprediction.entity.artifact_entity import *\n",
    "from incomeprediction.entity.config_entity import *"
   ]
  },
  {
   "cell_type": "code",
   "execution_count": 2,
   "metadata": {},
   "outputs": [],
   "source": [
    "dt = datatransformation(data_validation_artifact=DataValidationArtifact,data_ingestion_artifact= DataIngestionArtifact,data_transformation_config=DataTransformationConfig)"
   ]
  },
  {
   "cell_type": "code",
   "execution_count": 3,
   "metadata": {},
   "outputs": [],
   "source": [
    "from incomeprediction.exception import incomepredictionexception\n",
    "import yaml\n",
    "import sys\n",
    "def read_yaml_file(file_path:str)->dict:\n",
    "    \"\"\"\n",
    "    Reads a YAML file and returns the contents as a dictionary.\n",
    "    file_path: str\n",
    "    \"\"\"\n",
    "    try:\n",
    "        with open(file_path, 'rb') as yaml_file:\n",
    "            return yaml.safe_load(yaml_file)\n",
    "    except Exception as e:\n",
    "        raise incomepredictionexception(e,sys) from e"
   ]
  },
  {
   "cell_type": "code",
   "execution_count": 4,
   "metadata": {},
   "outputs": [],
   "source": [
    "schema_file_path = \"D:\\Ineuron\\Project\\Adult_Census_Income_Prediction\\config\\schema.yaml\""
   ]
  },
  {
   "cell_type": "code",
   "execution_count": 5,
   "metadata": {},
   "outputs": [],
   "source": [
    "dataset_schema = read_yaml_file(file_path=schema_file_path)"
   ]
  },
  {
   "cell_type": "code",
   "execution_count": 6,
   "metadata": {},
   "outputs": [],
   "source": [
    "from incomeprediction.constant import NUMERICAL_COLUMN_KEY , CATEGORICAL_COLUMN_KEY,TARGET_COLUMN_KEY"
   ]
  },
  {
   "cell_type": "code",
   "execution_count": 7,
   "metadata": {},
   "outputs": [],
   "source": [
    "numerical_columns = dataset_schema[NUMERICAL_COLUMN_KEY]\n",
    "categorical_columns = dataset_schema[CATEGORICAL_COLUMN_KEY]\n",
    "target_column_name = dataset_schema[TARGET_COLUMN_KEY]"
   ]
  },
  {
   "cell_type": "code",
   "execution_count": 8,
   "metadata": {},
   "outputs": [],
   "source": [
    "from sklearn.preprocessing import StandardScaler,OneHotEncoder\n",
    "from sklearn.compose import ColumnTransformer\n",
    "from sklearn.impute import SimpleImputer\n",
    "from sklearn.pipeline import Pipeline\n",
    "from sklearn.preprocessing import LabelEncoder\n",
    "from imblearn.over_sampling import RandomOverSampler "
   ]
  },
  {
   "cell_type": "code",
   "execution_count": 9,
   "metadata": {},
   "outputs": [],
   "source": [
    "num_pipeline = Pipeline(steps=[\n",
    "                ('imputer', SimpleImputer(strategy=\"median\")),\n",
    "                ('scaler', StandardScaler())\n",
    "            ])"
   ]
  },
  {
   "cell_type": "code",
   "execution_count": 48,
   "metadata": {},
   "outputs": [],
   "source": [
    "cat_pipeline = Pipeline(steps=[\n",
    "                 ('impute', SimpleImputer(strategy=\"most_frequent\"))\n",
    "                 #('one_hot_encoder', OneHotEncoder())\n",
    "            ])"
   ]
  },
  {
   "cell_type": "code",
   "execution_count": 49,
   "metadata": {},
   "outputs": [],
   "source": [
    "preprocessing = ColumnTransformer([\n",
    "                ('num_pipeline', num_pipeline, numerical_columns),\n",
    "                ('cat_pipeline', cat_pipeline, categorical_columns),\n",
    "            ])"
   ]
  },
  {
   "cell_type": "code",
   "execution_count": 79,
   "metadata": {},
   "outputs": [],
   "source": [
    "train_file_path = \"D:\\\\Ineuron\\Project\\\\Adult_Census_Income_Prediction\\\\incomeprediction\\\\artifact\\\\data_ingestion\\\\22-08-10--22-42-53\\\\ingested_data\\\\train\\\\adultincomeprediction.csv\"\n",
    "test_file_path = \"D:\\\\Ineuron\\\\Project\\\\Adult_Census_Income_Prediction\\\\incomeprediction\\\\artifact\\\\data_ingestion\\\\22-08-10--22-42-53\\\\ingested_data\\\\test\\\\adultincomeprediction.csv\"\n",
    "schema_file_path = \"D:\\Ineuron\\Project\\Adult_Census_Income_Prediction\\config\\schema.yaml\""
   ]
  },
  {
   "cell_type": "code",
   "execution_count": 80,
   "metadata": {},
   "outputs": [],
   "source": [
    "import pandas as pd\n",
    "import numpy as np\n",
    "train_df = pd.read_csv(train_file_path)\n",
    "new_train_df = train_df.replace(' ?', np.nan)"
   ]
  },
  {
   "cell_type": "code",
   "execution_count": 81,
   "metadata": {},
   "outputs": [],
   "source": [
    "test_df = pd.read_csv(test_file_path)\n",
    "new_test_df = test_df.replace(' ?', np.nan)"
   ]
  },
  {
   "cell_type": "code",
   "execution_count": 82,
   "metadata": {},
   "outputs": [],
   "source": [
    "input_feature_train_df = new_train_df.drop(columns=[target_column_name],axis=1)\n",
    "target_feature_train_df = new_train_df['salary']"
   ]
  },
  {
   "cell_type": "code",
   "execution_count": 83,
   "metadata": {},
   "outputs": [],
   "source": [
    "input_feature_test_df = new_test_df.drop(columns=[target_column_name],axis=1)\n",
    "target_feature_test_df = new_test_df[target_column_name]"
   ]
  },
  {
   "cell_type": "code",
   "execution_count": 91,
   "metadata": {},
   "outputs": [],
   "source": [
    "for col in input_feature_train_df[categorical_columns]:\n",
    "    df_frequency_map = input_feature_train_df[col].value_counts().to_dict()\n",
    "    input_feature_train_df[col] = input_feature_train_df[col].map(df_frequency_map)\n"
   ]
  },
  {
   "cell_type": "code",
   "execution_count": 98,
   "metadata": {},
   "outputs": [],
   "source": [
    "for col in input_feature_test_df[categorical_columns]:\n",
    "    df_frequency_map = input_feature_test_df[col].value_counts().to_dict()\n",
    "    input_feature_test_df[col] = input_feature_test_df[col].map(df_frequency_map)"
   ]
  },
  {
   "cell_type": "code",
   "execution_count": 95,
   "metadata": {},
   "outputs": [
    {
     "data": {
      "text/html": [
       "<div>\n",
       "<style scoped>\n",
       "    .dataframe tbody tr th:only-of-type {\n",
       "        vertical-align: middle;\n",
       "    }\n",
       "\n",
       "    .dataframe tbody tr th {\n",
       "        vertical-align: top;\n",
       "    }\n",
       "\n",
       "    .dataframe thead th {\n",
       "        text-align: right;\n",
       "    }\n",
       "</style>\n",
       "<table border=\"1\" class=\"dataframe\">\n",
       "  <thead>\n",
       "    <tr style=\"text-align: right;\">\n",
       "      <th></th>\n",
       "      <th>age</th>\n",
       "      <th>workclass</th>\n",
       "      <th>fnlwgt</th>\n",
       "      <th>education</th>\n",
       "      <th>education-num</th>\n",
       "      <th>marital-status</th>\n",
       "      <th>occupation</th>\n",
       "      <th>relationship</th>\n",
       "      <th>race</th>\n",
       "      <th>sex</th>\n",
       "      <th>capital-gain</th>\n",
       "      <th>capital-loss</th>\n",
       "      <th>hours-per-week</th>\n",
       "      <th>country</th>\n",
       "    </tr>\n",
       "  </thead>\n",
       "  <tbody>\n",
       "    <tr>\n",
       "      <th>0</th>\n",
       "      <td>34</td>\n",
       "      <td>1796.0</td>\n",
       "      <td>56460</td>\n",
       "      <td>7319</td>\n",
       "      <td>9</td>\n",
       "      <td>10524</td>\n",
       "      <td>700.0</td>\n",
       "      <td>1082</td>\n",
       "      <td>19418</td>\n",
       "      <td>7533</td>\n",
       "      <td>0</td>\n",
       "      <td>2179</td>\n",
       "      <td>12</td>\n",
       "      <td>20363.0</td>\n",
       "    </tr>\n",
       "    <tr>\n",
       "      <th>1</th>\n",
       "      <td>48</td>\n",
       "      <td>1796.0</td>\n",
       "      <td>243631</td>\n",
       "      <td>5095</td>\n",
       "      <td>10</td>\n",
       "      <td>10524</td>\n",
       "      <td>2888.0</td>\n",
       "      <td>9286</td>\n",
       "      <td>205</td>\n",
       "      <td>15259</td>\n",
       "      <td>7688</td>\n",
       "      <td>0</td>\n",
       "      <td>40</td>\n",
       "      <td>20363.0</td>\n",
       "    </tr>\n",
       "    <tr>\n",
       "      <th>2</th>\n",
       "      <td>23</td>\n",
       "      <td>919.0</td>\n",
       "      <td>56402</td>\n",
       "      <td>5095</td>\n",
       "      <td>10</td>\n",
       "      <td>10524</td>\n",
       "      <td>2894.0</td>\n",
       "      <td>9286</td>\n",
       "      <td>19418</td>\n",
       "      <td>15259</td>\n",
       "      <td>0</td>\n",
       "      <td>0</td>\n",
       "      <td>30</td>\n",
       "      <td>20363.0</td>\n",
       "    </tr>\n",
       "    <tr>\n",
       "      <th>3</th>\n",
       "      <td>56</td>\n",
       "      <td>1445.0</td>\n",
       "      <td>255406</td>\n",
       "      <td>7319</td>\n",
       "      <td>9</td>\n",
       "      <td>3090</td>\n",
       "      <td>2857.0</td>\n",
       "      <td>5755</td>\n",
       "      <td>19418</td>\n",
       "      <td>7533</td>\n",
       "      <td>0</td>\n",
       "      <td>0</td>\n",
       "      <td>40</td>\n",
       "      <td>20363.0</td>\n",
       "    </tr>\n",
       "    <tr>\n",
       "      <th>4</th>\n",
       "      <td>17</td>\n",
       "      <td>15882.0</td>\n",
       "      <td>297246</td>\n",
       "      <td>831</td>\n",
       "      <td>7</td>\n",
       "      <td>7491</td>\n",
       "      <td>108.0</td>\n",
       "      <td>3549</td>\n",
       "      <td>19418</td>\n",
       "      <td>7533</td>\n",
       "      <td>0</td>\n",
       "      <td>0</td>\n",
       "      <td>9</td>\n",
       "      <td>20363.0</td>\n",
       "    </tr>\n",
       "  </tbody>\n",
       "</table>\n",
       "</div>"
      ],
      "text/plain": [
       "   age  workclass  fnlwgt  education  education-num  marital-status  \\\n",
       "0   34     1796.0   56460       7319              9           10524   \n",
       "1   48     1796.0  243631       5095             10           10524   \n",
       "2   23      919.0   56402       5095             10           10524   \n",
       "3   56     1445.0  255406       7319              9            3090   \n",
       "4   17    15882.0  297246        831              7            7491   \n",
       "\n",
       "   occupation  relationship   race    sex  capital-gain  capital-loss  \\\n",
       "0       700.0          1082  19418   7533             0          2179   \n",
       "1      2888.0          9286    205  15259          7688             0   \n",
       "2      2894.0          9286  19418  15259             0             0   \n",
       "3      2857.0          5755  19418   7533             0             0   \n",
       "4       108.0          3549  19418   7533             0             0   \n",
       "\n",
       "   hours-per-week  country  \n",
       "0              12  20363.0  \n",
       "1              40  20363.0  \n",
       "2              30  20363.0  \n",
       "3              40  20363.0  \n",
       "4               9  20363.0  "
      ]
     },
     "execution_count": 95,
     "metadata": {},
     "output_type": "execute_result"
    }
   ],
   "source": [
    "input_feature_train_df.head()"
   ]
  },
  {
   "cell_type": "code",
   "execution_count": 99,
   "metadata": {},
   "outputs": [
    {
     "data": {
      "text/html": [
       "<div>\n",
       "<style scoped>\n",
       "    .dataframe tbody tr th:only-of-type {\n",
       "        vertical-align: middle;\n",
       "    }\n",
       "\n",
       "    .dataframe tbody tr th {\n",
       "        vertical-align: top;\n",
       "    }\n",
       "\n",
       "    .dataframe thead th {\n",
       "        text-align: right;\n",
       "    }\n",
       "</style>\n",
       "<table border=\"1\" class=\"dataframe\">\n",
       "  <thead>\n",
       "    <tr style=\"text-align: right;\">\n",
       "      <th></th>\n",
       "      <th>age</th>\n",
       "      <th>workclass</th>\n",
       "      <th>fnlwgt</th>\n",
       "      <th>education</th>\n",
       "      <th>education-num</th>\n",
       "      <th>marital-status</th>\n",
       "      <th>occupation</th>\n",
       "      <th>relationship</th>\n",
       "      <th>race</th>\n",
       "      <th>sex</th>\n",
       "      <th>capital-gain</th>\n",
       "      <th>capital-loss</th>\n",
       "      <th>hours-per-week</th>\n",
       "      <th>country</th>\n",
       "    </tr>\n",
       "  </thead>\n",
       "  <tbody>\n",
       "    <tr>\n",
       "      <th>0</th>\n",
       "      <td>27</td>\n",
       "      <td>6814.0</td>\n",
       "      <td>160178</td>\n",
       "      <td>2196</td>\n",
       "      <td>10</td>\n",
       "      <td>1353</td>\n",
       "      <td>1118.0</td>\n",
       "      <td>2550</td>\n",
       "      <td>8398</td>\n",
       "      <td>3238</td>\n",
       "      <td>0</td>\n",
       "      <td>0</td>\n",
       "      <td>38</td>\n",
       "      <td>8807.0</td>\n",
       "    </tr>\n",
       "    <tr>\n",
       "      <th>1</th>\n",
       "      <td>45</td>\n",
       "      <td>379.0</td>\n",
       "      <td>50567</td>\n",
       "      <td>3182</td>\n",
       "      <td>9</td>\n",
       "      <td>4452</td>\n",
       "      <td>1209.0</td>\n",
       "      <td>486</td>\n",
       "      <td>8398</td>\n",
       "      <td>3238</td>\n",
       "      <td>0</td>\n",
       "      <td>0</td>\n",
       "      <td>40</td>\n",
       "      <td>8807.0</td>\n",
       "    </tr>\n",
       "    <tr>\n",
       "      <th>2</th>\n",
       "      <td>29</td>\n",
       "      <td>6814.0</td>\n",
       "      <td>185908</td>\n",
       "      <td>1583</td>\n",
       "      <td>13</td>\n",
       "      <td>4452</td>\n",
       "      <td>1209.0</td>\n",
       "      <td>3907</td>\n",
       "      <td>895</td>\n",
       "      <td>6531</td>\n",
       "      <td>0</td>\n",
       "      <td>0</td>\n",
       "      <td>55</td>\n",
       "      <td>8807.0</td>\n",
       "    </tr>\n",
       "    <tr>\n",
       "      <th>3</th>\n",
       "      <td>30</td>\n",
       "      <td>6814.0</td>\n",
       "      <td>190040</td>\n",
       "      <td>1583</td>\n",
       "      <td>13</td>\n",
       "      <td>3192</td>\n",
       "      <td>567.0</td>\n",
       "      <td>2550</td>\n",
       "      <td>8398</td>\n",
       "      <td>3238</td>\n",
       "      <td>0</td>\n",
       "      <td>0</td>\n",
       "      <td>40</td>\n",
       "      <td>8807.0</td>\n",
       "    </tr>\n",
       "    <tr>\n",
       "      <th>4</th>\n",
       "      <td>29</td>\n",
       "      <td>745.0</td>\n",
       "      <td>189346</td>\n",
       "      <td>2196</td>\n",
       "      <td>10</td>\n",
       "      <td>1353</td>\n",
       "      <td>1211.0</td>\n",
       "      <td>2550</td>\n",
       "      <td>8398</td>\n",
       "      <td>6531</td>\n",
       "      <td>2202</td>\n",
       "      <td>0</td>\n",
       "      <td>50</td>\n",
       "      <td>8807.0</td>\n",
       "    </tr>\n",
       "  </tbody>\n",
       "</table>\n",
       "</div>"
      ],
      "text/plain": [
       "   age  workclass  fnlwgt  education  education-num  marital-status  \\\n",
       "0   27     6814.0  160178       2196             10            1353   \n",
       "1   45      379.0   50567       3182              9            4452   \n",
       "2   29     6814.0  185908       1583             13            4452   \n",
       "3   30     6814.0  190040       1583             13            3192   \n",
       "4   29      745.0  189346       2196             10            1353   \n",
       "\n",
       "   occupation  relationship  race   sex  capital-gain  capital-loss  \\\n",
       "0      1118.0          2550  8398  3238             0             0   \n",
       "1      1209.0           486  8398  3238             0             0   \n",
       "2      1209.0          3907   895  6531             0             0   \n",
       "3       567.0          2550  8398  3238             0             0   \n",
       "4      1211.0          2550  8398  6531          2202             0   \n",
       "\n",
       "   hours-per-week  country  \n",
       "0              38   8807.0  \n",
       "1              40   8807.0  \n",
       "2              55   8807.0  \n",
       "3              40   8807.0  \n",
       "4              50   8807.0  "
      ]
     },
     "execution_count": 99,
     "metadata": {},
     "output_type": "execute_result"
    }
   ],
   "source": [
    "input_feature_test_df.head()"
   ]
  },
  {
   "cell_type": "code",
   "execution_count": 96,
   "metadata": {},
   "outputs": [],
   "source": [
    "input_feature_train_arr=preprocessing.fit_transform(input_feature_train_df)"
   ]
  },
  {
   "cell_type": "code",
   "execution_count": 100,
   "metadata": {},
   "outputs": [],
   "source": [
    "input_feature_test_arr = preprocessing.transform(input_feature_test_df)"
   ]
  },
  {
   "cell_type": "code",
   "execution_count": 97,
   "metadata": {},
   "outputs": [
    {
     "name": "stdout",
     "output_type": "stream",
     "text": [
      "(22792, 14)\n"
     ]
    }
   ],
   "source": [
    "print(input_feature_train_arr.shape)"
   ]
  },
  {
   "cell_type": "code",
   "execution_count": 101,
   "metadata": {},
   "outputs": [
    {
     "name": "stdout",
     "output_type": "stream",
     "text": [
      "(22792,)\n"
     ]
    }
   ],
   "source": [
    "print(target_feature_train_df.shape)"
   ]
  },
  {
   "cell_type": "code",
   "execution_count": 30,
   "metadata": {},
   "outputs": [
    {
     "data": {
      "text/plain": [
       "(22792, 1)"
      ]
     },
     "execution_count": 30,
     "metadata": {},
     "output_type": "execute_result"
    }
   ],
   "source": [
    "# target_feature_train_arr = np.array(target_feature_train_df).reshape(22792,1)\n",
    "# target_feature_train_arr.shape"
   ]
  },
  {
   "cell_type": "code",
   "execution_count": 102,
   "metadata": {},
   "outputs": [
    {
     "name": "stdout",
     "output_type": "stream",
     "text": [
      "[[-3.34770883e-01 -1.26129178e+00 -4.23218942e-01 ...  1.94180000e+04\n",
      "   7.53300000e+03  2.03630000e+04]\n",
      " [ 6.91223177e-01  5.10642419e-01 -3.53774348e-02 ...  2.05000000e+02\n",
      "   1.52590000e+04  2.03630000e+04]\n",
      " [-1.14090907e+00 -1.26184086e+00 -3.53774348e-02 ...  1.94180000e+04\n",
      "   1.52590000e+04  2.03630000e+04]\n",
      " ...\n",
      " [-1.50733552e+00  2.51750366e-01 -1.19890196e+00 ...  1.94180000e+04\n",
      "   7.53300000e+03  2.03630000e+04]\n",
      " [ 8.37793757e-01 -1.28210955e+00 -4.23218942e-01 ...  1.94180000e+04\n",
      "   1.52590000e+04  2.03630000e+04]\n",
      " [-3.34770883e-01 -5.87331776e-01  1.12814709e+00 ...  1.94180000e+04\n",
      "   1.52590000e+04  2.03630000e+04]]\n"
     ]
    }
   ],
   "source": [
    "print(input_feature_train_arr)"
   ]
  },
  {
   "cell_type": "code",
   "execution_count": 103,
   "metadata": {},
   "outputs": [
    {
     "data": {
      "text/html": [
       "<div>\n",
       "<style scoped>\n",
       "    .dataframe tbody tr th:only-of-type {\n",
       "        vertical-align: middle;\n",
       "    }\n",
       "\n",
       "    .dataframe tbody tr th {\n",
       "        vertical-align: top;\n",
       "    }\n",
       "\n",
       "    .dataframe thead th {\n",
       "        text-align: right;\n",
       "    }\n",
       "</style>\n",
       "<table border=\"1\" class=\"dataframe\">\n",
       "  <thead>\n",
       "    <tr style=\"text-align: right;\">\n",
       "      <th></th>\n",
       "      <th>0</th>\n",
       "      <th>1</th>\n",
       "      <th>2</th>\n",
       "      <th>3</th>\n",
       "      <th>4</th>\n",
       "      <th>5</th>\n",
       "      <th>6</th>\n",
       "      <th>7</th>\n",
       "      <th>8</th>\n",
       "      <th>9</th>\n",
       "      <th>10</th>\n",
       "      <th>11</th>\n",
       "      <th>12</th>\n",
       "      <th>13</th>\n",
       "    </tr>\n",
       "  </thead>\n",
       "  <tbody>\n",
       "    <tr>\n",
       "      <th>0</th>\n",
       "      <td>-0.334771</td>\n",
       "      <td>-1.261292</td>\n",
       "      <td>-0.423219</td>\n",
       "      <td>-0.146349</td>\n",
       "      <td>5.136118</td>\n",
       "      <td>-2.309851</td>\n",
       "      <td>1796.0</td>\n",
       "      <td>7319.0</td>\n",
       "      <td>10524.0</td>\n",
       "      <td>700.0</td>\n",
       "      <td>1082.0</td>\n",
       "      <td>19418.0</td>\n",
       "      <td>7533.0</td>\n",
       "      <td>20363.0</td>\n",
       "    </tr>\n",
       "    <tr>\n",
       "      <th>1</th>\n",
       "      <td>0.691223</td>\n",
       "      <td>0.510642</td>\n",
       "      <td>-0.035377</td>\n",
       "      <td>0.929742</td>\n",
       "      <td>-0.219921</td>\n",
       "      <td>-0.031295</td>\n",
       "      <td>1796.0</td>\n",
       "      <td>5095.0</td>\n",
       "      <td>10524.0</td>\n",
       "      <td>2888.0</td>\n",
       "      <td>9286.0</td>\n",
       "      <td>205.0</td>\n",
       "      <td>15259.0</td>\n",
       "      <td>20363.0</td>\n",
       "    </tr>\n",
       "    <tr>\n",
       "      <th>2</th>\n",
       "      <td>-1.140909</td>\n",
       "      <td>-1.261841</td>\n",
       "      <td>-0.035377</td>\n",
       "      <td>-0.146349</td>\n",
       "      <td>-0.219921</td>\n",
       "      <td>-0.845065</td>\n",
       "      <td>919.0</td>\n",
       "      <td>5095.0</td>\n",
       "      <td>10524.0</td>\n",
       "      <td>2894.0</td>\n",
       "      <td>9286.0</td>\n",
       "      <td>19418.0</td>\n",
       "      <td>15259.0</td>\n",
       "      <td>20363.0</td>\n",
       "    </tr>\n",
       "    <tr>\n",
       "      <th>3</th>\n",
       "      <td>1.277505</td>\n",
       "      <td>0.622115</td>\n",
       "      <td>-0.423219</td>\n",
       "      <td>-0.146349</td>\n",
       "      <td>-0.219921</td>\n",
       "      <td>-0.031295</td>\n",
       "      <td>1445.0</td>\n",
       "      <td>7319.0</td>\n",
       "      <td>3090.0</td>\n",
       "      <td>2857.0</td>\n",
       "      <td>5755.0</td>\n",
       "      <td>19418.0</td>\n",
       "      <td>7533.0</td>\n",
       "      <td>20363.0</td>\n",
       "    </tr>\n",
       "    <tr>\n",
       "      <th>4</th>\n",
       "      <td>-1.580621</td>\n",
       "      <td>1.018212</td>\n",
       "      <td>-1.198902</td>\n",
       "      <td>-0.146349</td>\n",
       "      <td>-0.219921</td>\n",
       "      <td>-2.553982</td>\n",
       "      <td>15882.0</td>\n",
       "      <td>831.0</td>\n",
       "      <td>7491.0</td>\n",
       "      <td>108.0</td>\n",
       "      <td>3549.0</td>\n",
       "      <td>19418.0</td>\n",
       "      <td>7533.0</td>\n",
       "      <td>20363.0</td>\n",
       "    </tr>\n",
       "    <tr>\n",
       "      <th>...</th>\n",
       "      <td>...</td>\n",
       "      <td>...</td>\n",
       "      <td>...</td>\n",
       "      <td>...</td>\n",
       "      <td>...</td>\n",
       "      <td>...</td>\n",
       "      <td>...</td>\n",
       "      <td>...</td>\n",
       "      <td>...</td>\n",
       "      <td>...</td>\n",
       "      <td>...</td>\n",
       "      <td>...</td>\n",
       "      <td>...</td>\n",
       "      <td>...</td>\n",
       "    </tr>\n",
       "    <tr>\n",
       "      <th>22787</th>\n",
       "      <td>0.617938</td>\n",
       "      <td>1.607197</td>\n",
       "      <td>1.128147</td>\n",
       "      <td>-0.146349</td>\n",
       "      <td>-0.219921</td>\n",
       "      <td>-0.031295</td>\n",
       "      <td>15882.0</td>\n",
       "      <td>3772.0</td>\n",
       "      <td>10524.0</td>\n",
       "      <td>2888.0</td>\n",
       "      <td>9286.0</td>\n",
       "      <td>19418.0</td>\n",
       "      <td>15259.0</td>\n",
       "      <td>20363.0</td>\n",
       "    </tr>\n",
       "    <tr>\n",
       "      <th>22788</th>\n",
       "      <td>-0.554627</td>\n",
       "      <td>-0.402121</td>\n",
       "      <td>-0.811060</td>\n",
       "      <td>-0.146349</td>\n",
       "      <td>-0.219921</td>\n",
       "      <td>-1.577458</td>\n",
       "      <td>15882.0</td>\n",
       "      <td>293.0</td>\n",
       "      <td>3090.0</td>\n",
       "      <td>2279.0</td>\n",
       "      <td>2411.0</td>\n",
       "      <td>19418.0</td>\n",
       "      <td>7533.0</td>\n",
       "      <td>20363.0</td>\n",
       "    </tr>\n",
       "    <tr>\n",
       "      <th>22789</th>\n",
       "      <td>-1.507336</td>\n",
       "      <td>0.251750</td>\n",
       "      <td>-1.198902</td>\n",
       "      <td>-0.146349</td>\n",
       "      <td>-0.219921</td>\n",
       "      <td>-1.658835</td>\n",
       "      <td>15882.0</td>\n",
       "      <td>831.0</td>\n",
       "      <td>7491.0</td>\n",
       "      <td>2652.0</td>\n",
       "      <td>3549.0</td>\n",
       "      <td>19418.0</td>\n",
       "      <td>7533.0</td>\n",
       "      <td>20363.0</td>\n",
       "    </tr>\n",
       "    <tr>\n",
       "      <th>22790</th>\n",
       "      <td>0.837794</td>\n",
       "      <td>-1.282110</td>\n",
       "      <td>-0.423219</td>\n",
       "      <td>-0.146349</td>\n",
       "      <td>-0.219921</td>\n",
       "      <td>3.549294</td>\n",
       "      <td>1796.0</td>\n",
       "      <td>7319.0</td>\n",
       "      <td>10524.0</td>\n",
       "      <td>700.0</td>\n",
       "      <td>9286.0</td>\n",
       "      <td>19418.0</td>\n",
       "      <td>15259.0</td>\n",
       "      <td>20363.0</td>\n",
       "    </tr>\n",
       "    <tr>\n",
       "      <th>22791</th>\n",
       "      <td>-0.334771</td>\n",
       "      <td>-0.587332</td>\n",
       "      <td>1.128147</td>\n",
       "      <td>-0.146349</td>\n",
       "      <td>-0.219921</td>\n",
       "      <td>1.596246</td>\n",
       "      <td>797.0</td>\n",
       "      <td>3772.0</td>\n",
       "      <td>3090.0</td>\n",
       "      <td>700.0</td>\n",
       "      <td>5755.0</td>\n",
       "      <td>19418.0</td>\n",
       "      <td>15259.0</td>\n",
       "      <td>20363.0</td>\n",
       "    </tr>\n",
       "  </tbody>\n",
       "</table>\n",
       "<p>22792 rows × 14 columns</p>\n",
       "</div>"
      ],
      "text/plain": [
       "             0         1         2         3         4         5        6   \\\n",
       "0     -0.334771 -1.261292 -0.423219 -0.146349  5.136118 -2.309851   1796.0   \n",
       "1      0.691223  0.510642 -0.035377  0.929742 -0.219921 -0.031295   1796.0   \n",
       "2     -1.140909 -1.261841 -0.035377 -0.146349 -0.219921 -0.845065    919.0   \n",
       "3      1.277505  0.622115 -0.423219 -0.146349 -0.219921 -0.031295   1445.0   \n",
       "4     -1.580621  1.018212 -1.198902 -0.146349 -0.219921 -2.553982  15882.0   \n",
       "...         ...       ...       ...       ...       ...       ...      ...   \n",
       "22787  0.617938  1.607197  1.128147 -0.146349 -0.219921 -0.031295  15882.0   \n",
       "22788 -0.554627 -0.402121 -0.811060 -0.146349 -0.219921 -1.577458  15882.0   \n",
       "22789 -1.507336  0.251750 -1.198902 -0.146349 -0.219921 -1.658835  15882.0   \n",
       "22790  0.837794 -1.282110 -0.423219 -0.146349 -0.219921  3.549294   1796.0   \n",
       "22791 -0.334771 -0.587332  1.128147 -0.146349 -0.219921  1.596246    797.0   \n",
       "\n",
       "           7        8       9       10       11       12       13  \n",
       "0      7319.0  10524.0   700.0  1082.0  19418.0   7533.0  20363.0  \n",
       "1      5095.0  10524.0  2888.0  9286.0    205.0  15259.0  20363.0  \n",
       "2      5095.0  10524.0  2894.0  9286.0  19418.0  15259.0  20363.0  \n",
       "3      7319.0   3090.0  2857.0  5755.0  19418.0   7533.0  20363.0  \n",
       "4       831.0   7491.0   108.0  3549.0  19418.0   7533.0  20363.0  \n",
       "...       ...      ...     ...     ...      ...      ...      ...  \n",
       "22787  3772.0  10524.0  2888.0  9286.0  19418.0  15259.0  20363.0  \n",
       "22788   293.0   3090.0  2279.0  2411.0  19418.0   7533.0  20363.0  \n",
       "22789   831.0   7491.0  2652.0  3549.0  19418.0   7533.0  20363.0  \n",
       "22790  7319.0  10524.0   700.0  9286.0  19418.0  15259.0  20363.0  \n",
       "22791  3772.0   3090.0   700.0  5755.0  19418.0  15259.0  20363.0  \n",
       "\n",
       "[22792 rows x 14 columns]"
      ]
     },
     "execution_count": 103,
     "metadata": {},
     "output_type": "execute_result"
    }
   ],
   "source": [
    "pd.DataFrame(input_feature_train_arr)"
   ]
  },
  {
   "cell_type": "code",
   "execution_count": 106,
   "metadata": {},
   "outputs": [
    {
     "data": {
      "text/plain": [
       "(22792,)"
      ]
     },
     "execution_count": 106,
     "metadata": {},
     "output_type": "execute_result"
    }
   ],
   "source": [
    "np.array(target_feature_train_df).shape"
   ]
  },
  {
   "cell_type": "code",
   "execution_count": 107,
   "metadata": {},
   "outputs": [
    {
     "data": {
      "text/plain": [
       "(22792, 14)"
      ]
     },
     "execution_count": 107,
     "metadata": {},
     "output_type": "execute_result"
    }
   ],
   "source": [
    "input_feature_train_arr.shape"
   ]
  },
  {
   "cell_type": "code",
   "execution_count": 108,
   "metadata": {},
   "outputs": [
    {
     "name": "stdout",
     "output_type": "stream",
     "text": [
      "[[-3.34770883e-01 -1.26129178e+00 -4.23218942e-01 ...  1.94180000e+04\n",
      "   7.53300000e+03  2.03630000e+04]\n",
      " [ 6.91223177e-01  5.10642419e-01 -3.53774348e-02 ...  2.05000000e+02\n",
      "   1.52590000e+04  2.03630000e+04]\n",
      " [-1.14090907e+00 -1.26184086e+00 -3.53774348e-02 ...  1.94180000e+04\n",
      "   1.52590000e+04  2.03630000e+04]\n",
      " ...\n",
      " [-1.50733552e+00  2.51750366e-01 -1.19890196e+00 ...  1.94180000e+04\n",
      "   7.53300000e+03  2.03630000e+04]\n",
      " [ 8.37793757e-01 -1.28210955e+00 -4.23218942e-01 ...  1.94180000e+04\n",
      "   1.52590000e+04  2.03630000e+04]\n",
      " [-3.34770883e-01 -5.87331776e-01  1.12814709e+00 ...  1.94180000e+04\n",
      "   1.52590000e+04  2.03630000e+04]]\n"
     ]
    }
   ],
   "source": [
    "print(input_feature_train_arr)"
   ]
  },
  {
   "cell_type": "code",
   "execution_count": 121,
   "metadata": {},
   "outputs": [],
   "source": [
    "train_arr = np.c_[input_feature_train_arr, np.array(target_feature_train_df)]"
   ]
  },
  {
   "cell_type": "code",
   "execution_count": 122,
   "metadata": {},
   "outputs": [
    {
     "data": {
      "text/plain": [
       "(22792, 15)"
      ]
     },
     "execution_count": 122,
     "metadata": {},
     "output_type": "execute_result"
    }
   ],
   "source": [
    "train_arr.shape"
   ]
  },
  {
   "cell_type": "code",
   "execution_count": 111,
   "metadata": {},
   "outputs": [
    {
     "data": {
      "text/plain": [
       "(9769,)"
      ]
     },
     "execution_count": 111,
     "metadata": {},
     "output_type": "execute_result"
    }
   ],
   "source": [
    "target_feature_test_df.shape"
   ]
  },
  {
   "cell_type": "code",
   "execution_count": 123,
   "metadata": {},
   "outputs": [
    {
     "name": "stdout",
     "output_type": "stream",
     "text": [
      "[[-0.3347708831314897 -1.2612917773869472 -0.4232189422101526 ... 7533.0\n",
      "  20363.0 ' <=50K']\n",
      " [0.6912231768662134 0.5106424192459057 -0.035377434797752544 ... 15259.0\n",
      "  20363.0 ' >50K']\n",
      " [-1.140909073129685 -1.2618408591539128 -0.035377434797752544 ...\n",
      "  15259.0 20363.0 ' <=50K']\n",
      " ...\n",
      " [-1.5073355231288645 0.2517503661216577 -1.1989019570349528 ... 7533.0\n",
      "  20363.0 ' <=50K']\n",
      " [0.8377937568658852 -1.2821095498965542 -0.4232189422101526 ... 15259.0\n",
      "  20363.0 ' <=50K']\n",
      " [-0.3347708831314897 -0.587331776144824 1.1281470874394477 ... 15259.0\n",
      "  20363.0 ' <=50K']]\n"
     ]
    }
   ],
   "source": [
    "print(train_arr)"
   ]
  },
  {
   "cell_type": "code",
   "execution_count": 114,
   "metadata": {},
   "outputs": [],
   "source": [
    "test_arr = np.c_[input_feature_test_arr, np.array(target_feature_test_df)]"
   ]
  },
  {
   "cell_type": "code",
   "execution_count": 116,
   "metadata": {},
   "outputs": [
    {
     "data": {
      "text/html": [
       "<div>\n",
       "<style scoped>\n",
       "    .dataframe tbody tr th:only-of-type {\n",
       "        vertical-align: middle;\n",
       "    }\n",
       "\n",
       "    .dataframe tbody tr th {\n",
       "        vertical-align: top;\n",
       "    }\n",
       "\n",
       "    .dataframe thead th {\n",
       "        text-align: right;\n",
       "    }\n",
       "</style>\n",
       "<table border=\"1\" class=\"dataframe\">\n",
       "  <thead>\n",
       "    <tr style=\"text-align: right;\">\n",
       "      <th></th>\n",
       "      <th>0</th>\n",
       "      <th>1</th>\n",
       "      <th>2</th>\n",
       "      <th>3</th>\n",
       "      <th>4</th>\n",
       "      <th>5</th>\n",
       "      <th>6</th>\n",
       "      <th>7</th>\n",
       "      <th>8</th>\n",
       "      <th>9</th>\n",
       "      <th>10</th>\n",
       "      <th>11</th>\n",
       "      <th>12</th>\n",
       "      <th>13</th>\n",
       "      <th>14</th>\n",
       "    </tr>\n",
       "  </thead>\n",
       "  <tbody>\n",
       "    <tr>\n",
       "      <th>0</th>\n",
       "      <td>-0.847768</td>\n",
       "      <td>-0.279401</td>\n",
       "      <td>-0.035377</td>\n",
       "      <td>-0.146349</td>\n",
       "      <td>-0.219921</td>\n",
       "      <td>-0.194049</td>\n",
       "      <td>6814.0</td>\n",
       "      <td>2196.0</td>\n",
       "      <td>1353.0</td>\n",
       "      <td>1118.0</td>\n",
       "      <td>2550.0</td>\n",
       "      <td>8398.0</td>\n",
       "      <td>3238.0</td>\n",
       "      <td>8807.0</td>\n",
       "      <td>&lt;=50K</td>\n",
       "    </tr>\n",
       "    <tr>\n",
       "      <th>1</th>\n",
       "      <td>0.471367</td>\n",
       "      <td>-1.31708</td>\n",
       "      <td>-0.423219</td>\n",
       "      <td>-0.146349</td>\n",
       "      <td>-0.219921</td>\n",
       "      <td>-0.031295</td>\n",
       "      <td>379.0</td>\n",
       "      <td>3182.0</td>\n",
       "      <td>4452.0</td>\n",
       "      <td>1209.0</td>\n",
       "      <td>486.0</td>\n",
       "      <td>8398.0</td>\n",
       "      <td>3238.0</td>\n",
       "      <td>8807.0</td>\n",
       "      <td>&lt;=50K</td>\n",
       "    </tr>\n",
       "    <tr>\n",
       "      <th>2</th>\n",
       "      <td>-0.701197</td>\n",
       "      <td>-0.035817</td>\n",
       "      <td>1.128147</td>\n",
       "      <td>-0.146349</td>\n",
       "      <td>-0.219921</td>\n",
       "      <td>1.189361</td>\n",
       "      <td>6814.0</td>\n",
       "      <td>1583.0</td>\n",
       "      <td>4452.0</td>\n",
       "      <td>1209.0</td>\n",
       "      <td>3907.0</td>\n",
       "      <td>895.0</td>\n",
       "      <td>6531.0</td>\n",
       "      <td>8807.0</td>\n",
       "      <td>&gt;50K</td>\n",
       "    </tr>\n",
       "    <tr>\n",
       "      <th>3</th>\n",
       "      <td>-0.627912</td>\n",
       "      <td>0.0033</td>\n",
       "      <td>1.128147</td>\n",
       "      <td>-0.146349</td>\n",
       "      <td>-0.219921</td>\n",
       "      <td>-0.031295</td>\n",
       "      <td>6814.0</td>\n",
       "      <td>1583.0</td>\n",
       "      <td>3192.0</td>\n",
       "      <td>567.0</td>\n",
       "      <td>2550.0</td>\n",
       "      <td>8398.0</td>\n",
       "      <td>3238.0</td>\n",
       "      <td>8807.0</td>\n",
       "      <td>&lt;=50K</td>\n",
       "    </tr>\n",
       "    <tr>\n",
       "      <th>4</th>\n",
       "      <td>-0.701197</td>\n",
       "      <td>-0.00327</td>\n",
       "      <td>-0.035377</td>\n",
       "      <td>0.161865</td>\n",
       "      <td>-0.219921</td>\n",
       "      <td>0.782475</td>\n",
       "      <td>745.0</td>\n",
       "      <td>2196.0</td>\n",
       "      <td>1353.0</td>\n",
       "      <td>1211.0</td>\n",
       "      <td>2550.0</td>\n",
       "      <td>8398.0</td>\n",
       "      <td>6531.0</td>\n",
       "      <td>8807.0</td>\n",
       "      <td>&lt;=50K</td>\n",
       "    </tr>\n",
       "    <tr>\n",
       "      <th>...</th>\n",
       "      <td>...</td>\n",
       "      <td>...</td>\n",
       "      <td>...</td>\n",
       "      <td>...</td>\n",
       "      <td>...</td>\n",
       "      <td>...</td>\n",
       "      <td>...</td>\n",
       "      <td>...</td>\n",
       "      <td>...</td>\n",
       "      <td>...</td>\n",
       "      <td>...</td>\n",
       "      <td>...</td>\n",
       "      <td>...</td>\n",
       "      <td>...</td>\n",
       "      <td>...</td>\n",
       "    </tr>\n",
       "    <tr>\n",
       "      <th>9764</th>\n",
       "      <td>-0.261486</td>\n",
       "      <td>-1.505415</td>\n",
       "      <td>-0.81106</td>\n",
       "      <td>-0.146349</td>\n",
       "      <td>-0.219921</td>\n",
       "      <td>3.549294</td>\n",
       "      <td>6814.0</td>\n",
       "      <td>140.0</td>\n",
       "      <td>4452.0</td>\n",
       "      <td>1211.0</td>\n",
       "      <td>3907.0</td>\n",
       "      <td>8398.0</td>\n",
       "      <td>6531.0</td>\n",
       "      <td>8807.0</td>\n",
       "      <td>&lt;=50K</td>\n",
       "    </tr>\n",
       "    <tr>\n",
       "      <th>9765</th>\n",
       "      <td>-1.067624</td>\n",
       "      <td>-1.30377</td>\n",
       "      <td>1.128147</td>\n",
       "      <td>-0.146349</td>\n",
       "      <td>-0.219921</td>\n",
       "      <td>-1.658835</td>\n",
       "      <td>6814.0</td>\n",
       "      <td>1583.0</td>\n",
       "      <td>3192.0</td>\n",
       "      <td>1246.0</td>\n",
       "      <td>1519.0</td>\n",
       "      <td>8398.0</td>\n",
       "      <td>3238.0</td>\n",
       "      <td>8807.0</td>\n",
       "      <td>&lt;=50K</td>\n",
       "    </tr>\n",
       "    <tr>\n",
       "      <th>9766</th>\n",
       "      <td>-1.067624</td>\n",
       "      <td>2.391181</td>\n",
       "      <td>-0.423219</td>\n",
       "      <td>-0.146349</td>\n",
       "      <td>-0.219921</td>\n",
       "      <td>-0.031295</td>\n",
       "      <td>6814.0</td>\n",
       "      <td>3182.0</td>\n",
       "      <td>3192.0</td>\n",
       "      <td>1209.0</td>\n",
       "      <td>1519.0</td>\n",
       "      <td>8398.0</td>\n",
       "      <td>6531.0</td>\n",
       "      <td>8807.0</td>\n",
       "      <td>&lt;=50K</td>\n",
       "    </tr>\n",
       "    <tr>\n",
       "      <th>9767</th>\n",
       "      <td>1.277505</td>\n",
       "      <td>-0.10734</td>\n",
       "      <td>-0.035377</td>\n",
       "      <td>-0.146349</td>\n",
       "      <td>-0.219921</td>\n",
       "      <td>-0.031295</td>\n",
       "      <td>6814.0</td>\n",
       "      <td>2196.0</td>\n",
       "      <td>4452.0</td>\n",
       "      <td>1246.0</td>\n",
       "      <td>3907.0</td>\n",
       "      <td>8398.0</td>\n",
       "      <td>6531.0</td>\n",
       "      <td>8807.0</td>\n",
       "      <td>&gt;50K</td>\n",
       "    </tr>\n",
       "    <tr>\n",
       "      <th>9768</th>\n",
       "      <td>0.398082</td>\n",
       "      <td>0.079566</td>\n",
       "      <td>1.128147</td>\n",
       "      <td>0.929742</td>\n",
       "      <td>-0.219921</td>\n",
       "      <td>-0.031295</td>\n",
       "      <td>6814.0</td>\n",
       "      <td>1583.0</td>\n",
       "      <td>4452.0</td>\n",
       "      <td>1069.0</td>\n",
       "      <td>3907.0</td>\n",
       "      <td>8398.0</td>\n",
       "      <td>6531.0</td>\n",
       "      <td>8807.0</td>\n",
       "      <td>&gt;50K</td>\n",
       "    </tr>\n",
       "  </tbody>\n",
       "</table>\n",
       "<p>9769 rows × 15 columns</p>\n",
       "</div>"
      ],
      "text/plain": [
       "            0         1         2         3         4         5       6   \\\n",
       "0    -0.847768 -0.279401 -0.035377 -0.146349 -0.219921 -0.194049  6814.0   \n",
       "1     0.471367  -1.31708 -0.423219 -0.146349 -0.219921 -0.031295   379.0   \n",
       "2    -0.701197 -0.035817  1.128147 -0.146349 -0.219921  1.189361  6814.0   \n",
       "3    -0.627912    0.0033  1.128147 -0.146349 -0.219921 -0.031295  6814.0   \n",
       "4    -0.701197  -0.00327 -0.035377  0.161865 -0.219921  0.782475   745.0   \n",
       "...        ...       ...       ...       ...       ...       ...     ...   \n",
       "9764 -0.261486 -1.505415  -0.81106 -0.146349 -0.219921  3.549294  6814.0   \n",
       "9765 -1.067624  -1.30377  1.128147 -0.146349 -0.219921 -1.658835  6814.0   \n",
       "9766 -1.067624  2.391181 -0.423219 -0.146349 -0.219921 -0.031295  6814.0   \n",
       "9767  1.277505  -0.10734 -0.035377 -0.146349 -0.219921 -0.031295  6814.0   \n",
       "9768  0.398082  0.079566  1.128147  0.929742 -0.219921 -0.031295  6814.0   \n",
       "\n",
       "          7       8       9       10      11      12      13      14  \n",
       "0     2196.0  1353.0  1118.0  2550.0  8398.0  3238.0  8807.0   <=50K  \n",
       "1     3182.0  4452.0  1209.0   486.0  8398.0  3238.0  8807.0   <=50K  \n",
       "2     1583.0  4452.0  1209.0  3907.0   895.0  6531.0  8807.0    >50K  \n",
       "3     1583.0  3192.0   567.0  2550.0  8398.0  3238.0  8807.0   <=50K  \n",
       "4     2196.0  1353.0  1211.0  2550.0  8398.0  6531.0  8807.0   <=50K  \n",
       "...      ...     ...     ...     ...     ...     ...     ...     ...  \n",
       "9764   140.0  4452.0  1211.0  3907.0  8398.0  6531.0  8807.0   <=50K  \n",
       "9765  1583.0  3192.0  1246.0  1519.0  8398.0  3238.0  8807.0   <=50K  \n",
       "9766  3182.0  3192.0  1209.0  1519.0  8398.0  6531.0  8807.0   <=50K  \n",
       "9767  2196.0  4452.0  1246.0  3907.0  8398.0  6531.0  8807.0    >50K  \n",
       "9768  1583.0  4452.0  1069.0  3907.0  8398.0  6531.0  8807.0    >50K  \n",
       "\n",
       "[9769 rows x 15 columns]"
      ]
     },
     "execution_count": 116,
     "metadata": {},
     "output_type": "execute_result"
    }
   ],
   "source": [
    "pd.DataFrame(test_arr)"
   ]
  },
  {
   "cell_type": "code",
   "execution_count": 127,
   "metadata": {},
   "outputs": [],
   "source": [
    "trasnformed_train_df = pd.DataFrame(train_arr, columns = train_df.columns)"
   ]
  },
  {
   "cell_type": "code",
   "execution_count": 128,
   "metadata": {},
   "outputs": [
    {
     "data": {
      "text/html": [
       "<div>\n",
       "<style scoped>\n",
       "    .dataframe tbody tr th:only-of-type {\n",
       "        vertical-align: middle;\n",
       "    }\n",
       "\n",
       "    .dataframe tbody tr th {\n",
       "        vertical-align: top;\n",
       "    }\n",
       "\n",
       "    .dataframe thead th {\n",
       "        text-align: right;\n",
       "    }\n",
       "</style>\n",
       "<table border=\"1\" class=\"dataframe\">\n",
       "  <thead>\n",
       "    <tr style=\"text-align: right;\">\n",
       "      <th></th>\n",
       "      <th>age</th>\n",
       "      <th>workclass</th>\n",
       "      <th>fnlwgt</th>\n",
       "      <th>education</th>\n",
       "      <th>education-num</th>\n",
       "      <th>marital-status</th>\n",
       "      <th>occupation</th>\n",
       "      <th>relationship</th>\n",
       "      <th>race</th>\n",
       "      <th>sex</th>\n",
       "      <th>capital-gain</th>\n",
       "      <th>capital-loss</th>\n",
       "      <th>hours-per-week</th>\n",
       "      <th>country</th>\n",
       "      <th>salary</th>\n",
       "    </tr>\n",
       "  </thead>\n",
       "  <tbody>\n",
       "    <tr>\n",
       "      <th>0</th>\n",
       "      <td>-0.334771</td>\n",
       "      <td>-1.261292</td>\n",
       "      <td>-0.423219</td>\n",
       "      <td>-0.146349</td>\n",
       "      <td>5.136118</td>\n",
       "      <td>-2.309851</td>\n",
       "      <td>1796.0</td>\n",
       "      <td>7319.0</td>\n",
       "      <td>10524.0</td>\n",
       "      <td>700.0</td>\n",
       "      <td>1082.0</td>\n",
       "      <td>19418.0</td>\n",
       "      <td>7533.0</td>\n",
       "      <td>20363.0</td>\n",
       "      <td>&lt;=50K</td>\n",
       "    </tr>\n",
       "    <tr>\n",
       "      <th>1</th>\n",
       "      <td>0.691223</td>\n",
       "      <td>0.510642</td>\n",
       "      <td>-0.035377</td>\n",
       "      <td>0.929742</td>\n",
       "      <td>-0.219921</td>\n",
       "      <td>-0.031295</td>\n",
       "      <td>1796.0</td>\n",
       "      <td>5095.0</td>\n",
       "      <td>10524.0</td>\n",
       "      <td>2888.0</td>\n",
       "      <td>9286.0</td>\n",
       "      <td>205.0</td>\n",
       "      <td>15259.0</td>\n",
       "      <td>20363.0</td>\n",
       "      <td>&gt;50K</td>\n",
       "    </tr>\n",
       "    <tr>\n",
       "      <th>2</th>\n",
       "      <td>-1.140909</td>\n",
       "      <td>-1.261841</td>\n",
       "      <td>-0.035377</td>\n",
       "      <td>-0.146349</td>\n",
       "      <td>-0.219921</td>\n",
       "      <td>-0.845065</td>\n",
       "      <td>919.0</td>\n",
       "      <td>5095.0</td>\n",
       "      <td>10524.0</td>\n",
       "      <td>2894.0</td>\n",
       "      <td>9286.0</td>\n",
       "      <td>19418.0</td>\n",
       "      <td>15259.0</td>\n",
       "      <td>20363.0</td>\n",
       "      <td>&lt;=50K</td>\n",
       "    </tr>\n",
       "    <tr>\n",
       "      <th>3</th>\n",
       "      <td>1.277505</td>\n",
       "      <td>0.622115</td>\n",
       "      <td>-0.423219</td>\n",
       "      <td>-0.146349</td>\n",
       "      <td>-0.219921</td>\n",
       "      <td>-0.031295</td>\n",
       "      <td>1445.0</td>\n",
       "      <td>7319.0</td>\n",
       "      <td>3090.0</td>\n",
       "      <td>2857.0</td>\n",
       "      <td>5755.0</td>\n",
       "      <td>19418.0</td>\n",
       "      <td>7533.0</td>\n",
       "      <td>20363.0</td>\n",
       "      <td>&lt;=50K</td>\n",
       "    </tr>\n",
       "    <tr>\n",
       "      <th>4</th>\n",
       "      <td>-1.580621</td>\n",
       "      <td>1.018212</td>\n",
       "      <td>-1.198902</td>\n",
       "      <td>-0.146349</td>\n",
       "      <td>-0.219921</td>\n",
       "      <td>-2.553982</td>\n",
       "      <td>15882.0</td>\n",
       "      <td>831.0</td>\n",
       "      <td>7491.0</td>\n",
       "      <td>108.0</td>\n",
       "      <td>3549.0</td>\n",
       "      <td>19418.0</td>\n",
       "      <td>7533.0</td>\n",
       "      <td>20363.0</td>\n",
       "      <td>&lt;=50K</td>\n",
       "    </tr>\n",
       "    <tr>\n",
       "      <th>...</th>\n",
       "      <td>...</td>\n",
       "      <td>...</td>\n",
       "      <td>...</td>\n",
       "      <td>...</td>\n",
       "      <td>...</td>\n",
       "      <td>...</td>\n",
       "      <td>...</td>\n",
       "      <td>...</td>\n",
       "      <td>...</td>\n",
       "      <td>...</td>\n",
       "      <td>...</td>\n",
       "      <td>...</td>\n",
       "      <td>...</td>\n",
       "      <td>...</td>\n",
       "      <td>...</td>\n",
       "    </tr>\n",
       "    <tr>\n",
       "      <th>22787</th>\n",
       "      <td>0.617938</td>\n",
       "      <td>1.607197</td>\n",
       "      <td>1.128147</td>\n",
       "      <td>-0.146349</td>\n",
       "      <td>-0.219921</td>\n",
       "      <td>-0.031295</td>\n",
       "      <td>15882.0</td>\n",
       "      <td>3772.0</td>\n",
       "      <td>10524.0</td>\n",
       "      <td>2888.0</td>\n",
       "      <td>9286.0</td>\n",
       "      <td>19418.0</td>\n",
       "      <td>15259.0</td>\n",
       "      <td>20363.0</td>\n",
       "      <td>&lt;=50K</td>\n",
       "    </tr>\n",
       "    <tr>\n",
       "      <th>22788</th>\n",
       "      <td>-0.554627</td>\n",
       "      <td>-0.402121</td>\n",
       "      <td>-0.81106</td>\n",
       "      <td>-0.146349</td>\n",
       "      <td>-0.219921</td>\n",
       "      <td>-1.577458</td>\n",
       "      <td>15882.0</td>\n",
       "      <td>293.0</td>\n",
       "      <td>3090.0</td>\n",
       "      <td>2279.0</td>\n",
       "      <td>2411.0</td>\n",
       "      <td>19418.0</td>\n",
       "      <td>7533.0</td>\n",
       "      <td>20363.0</td>\n",
       "      <td>&lt;=50K</td>\n",
       "    </tr>\n",
       "    <tr>\n",
       "      <th>22789</th>\n",
       "      <td>-1.507336</td>\n",
       "      <td>0.25175</td>\n",
       "      <td>-1.198902</td>\n",
       "      <td>-0.146349</td>\n",
       "      <td>-0.219921</td>\n",
       "      <td>-1.658835</td>\n",
       "      <td>15882.0</td>\n",
       "      <td>831.0</td>\n",
       "      <td>7491.0</td>\n",
       "      <td>2652.0</td>\n",
       "      <td>3549.0</td>\n",
       "      <td>19418.0</td>\n",
       "      <td>7533.0</td>\n",
       "      <td>20363.0</td>\n",
       "      <td>&lt;=50K</td>\n",
       "    </tr>\n",
       "    <tr>\n",
       "      <th>22790</th>\n",
       "      <td>0.837794</td>\n",
       "      <td>-1.28211</td>\n",
       "      <td>-0.423219</td>\n",
       "      <td>-0.146349</td>\n",
       "      <td>-0.219921</td>\n",
       "      <td>3.549294</td>\n",
       "      <td>1796.0</td>\n",
       "      <td>7319.0</td>\n",
       "      <td>10524.0</td>\n",
       "      <td>700.0</td>\n",
       "      <td>9286.0</td>\n",
       "      <td>19418.0</td>\n",
       "      <td>15259.0</td>\n",
       "      <td>20363.0</td>\n",
       "      <td>&lt;=50K</td>\n",
       "    </tr>\n",
       "    <tr>\n",
       "      <th>22791</th>\n",
       "      <td>-0.334771</td>\n",
       "      <td>-0.587332</td>\n",
       "      <td>1.128147</td>\n",
       "      <td>-0.146349</td>\n",
       "      <td>-0.219921</td>\n",
       "      <td>1.596246</td>\n",
       "      <td>797.0</td>\n",
       "      <td>3772.0</td>\n",
       "      <td>3090.0</td>\n",
       "      <td>700.0</td>\n",
       "      <td>5755.0</td>\n",
       "      <td>19418.0</td>\n",
       "      <td>15259.0</td>\n",
       "      <td>20363.0</td>\n",
       "      <td>&lt;=50K</td>\n",
       "    </tr>\n",
       "  </tbody>\n",
       "</table>\n",
       "<p>22792 rows × 15 columns</p>\n",
       "</div>"
      ],
      "text/plain": [
       "            age workclass    fnlwgt education education-num marital-status  \\\n",
       "0     -0.334771 -1.261292 -0.423219 -0.146349      5.136118      -2.309851   \n",
       "1      0.691223  0.510642 -0.035377  0.929742     -0.219921      -0.031295   \n",
       "2     -1.140909 -1.261841 -0.035377 -0.146349     -0.219921      -0.845065   \n",
       "3      1.277505  0.622115 -0.423219 -0.146349     -0.219921      -0.031295   \n",
       "4     -1.580621  1.018212 -1.198902 -0.146349     -0.219921      -2.553982   \n",
       "...         ...       ...       ...       ...           ...            ...   \n",
       "22787  0.617938  1.607197  1.128147 -0.146349     -0.219921      -0.031295   \n",
       "22788 -0.554627 -0.402121  -0.81106 -0.146349     -0.219921      -1.577458   \n",
       "22789 -1.507336   0.25175 -1.198902 -0.146349     -0.219921      -1.658835   \n",
       "22790  0.837794  -1.28211 -0.423219 -0.146349     -0.219921       3.549294   \n",
       "22791 -0.334771 -0.587332  1.128147 -0.146349     -0.219921       1.596246   \n",
       "\n",
       "      occupation relationship     race     sex capital-gain capital-loss  \\\n",
       "0         1796.0       7319.0  10524.0   700.0       1082.0      19418.0   \n",
       "1         1796.0       5095.0  10524.0  2888.0       9286.0        205.0   \n",
       "2          919.0       5095.0  10524.0  2894.0       9286.0      19418.0   \n",
       "3         1445.0       7319.0   3090.0  2857.0       5755.0      19418.0   \n",
       "4        15882.0        831.0   7491.0   108.0       3549.0      19418.0   \n",
       "...          ...          ...      ...     ...          ...          ...   \n",
       "22787    15882.0       3772.0  10524.0  2888.0       9286.0      19418.0   \n",
       "22788    15882.0        293.0   3090.0  2279.0       2411.0      19418.0   \n",
       "22789    15882.0        831.0   7491.0  2652.0       3549.0      19418.0   \n",
       "22790     1796.0       7319.0  10524.0   700.0       9286.0      19418.0   \n",
       "22791      797.0       3772.0   3090.0   700.0       5755.0      19418.0   \n",
       "\n",
       "      hours-per-week  country  salary  \n",
       "0             7533.0  20363.0   <=50K  \n",
       "1            15259.0  20363.0    >50K  \n",
       "2            15259.0  20363.0   <=50K  \n",
       "3             7533.0  20363.0   <=50K  \n",
       "4             7533.0  20363.0   <=50K  \n",
       "...              ...      ...     ...  \n",
       "22787        15259.0  20363.0   <=50K  \n",
       "22788         7533.0  20363.0   <=50K  \n",
       "22789         7533.0  20363.0   <=50K  \n",
       "22790        15259.0  20363.0   <=50K  \n",
       "22791        15259.0  20363.0   <=50K  \n",
       "\n",
       "[22792 rows x 15 columns]"
      ]
     },
     "execution_count": 128,
     "metadata": {},
     "output_type": "execute_result"
    }
   ],
   "source": [
    "trasnformed_train_df"
   ]
  },
  {
   "cell_type": "code",
   "execution_count": 129,
   "metadata": {},
   "outputs": [],
   "source": [
    "x = trasnformed_train_df.iloc[:,:-1]\n",
    "y = trasnformed_train_df.iloc[:,-1]"
   ]
  },
  {
   "cell_type": "code",
   "execution_count": 130,
   "metadata": {},
   "outputs": [
    {
     "data": {
      "text/plain": [
       " <=50K    0.757503\n",
       " >50K     0.242497\n",
       "Name: salary, dtype: float64"
      ]
     },
     "execution_count": 130,
     "metadata": {},
     "output_type": "execute_result"
    }
   ],
   "source": [
    "y.value_counts(normalize=True)"
   ]
  },
  {
   "cell_type": "code",
   "execution_count": 131,
   "metadata": {},
   "outputs": [
    {
     "data": {
      "text/plain": [
       "RandomOverSampler(random_state=30)"
      ]
     },
     "execution_count": 131,
     "metadata": {},
     "output_type": "execute_result"
    }
   ],
   "source": [
    "rs = RandomOverSampler(random_state=30)\n",
    "rs.fit(x,y)"
   ]
  },
  {
   "cell_type": "code",
   "execution_count": 138,
   "metadata": {},
   "outputs": [],
   "source": [
    "X_new,y_new = rs.fit_resample(x,y)"
   ]
  },
  {
   "cell_type": "code",
   "execution_count": 140,
   "metadata": {},
   "outputs": [
    {
     "data": {
      "text/plain": [
       " <=50K    0.5\n",
       " >50K     0.5\n",
       "Name: salary, dtype: float64"
      ]
     },
     "execution_count": 140,
     "metadata": {},
     "output_type": "execute_result"
    }
   ],
   "source": [
    "y_new.value_counts(normalize=True)"
   ]
  },
  {
   "cell_type": "code",
   "execution_count": 151,
   "metadata": {},
   "outputs": [
    {
     "data": {
      "text/plain": [
       "0         <=50K\n",
       "1          >50K\n",
       "2         <=50K\n",
       "3         <=50K\n",
       "4         <=50K\n",
       "          ...  \n",
       "34525      >50K\n",
       "34526      >50K\n",
       "34527      >50K\n",
       "34528      >50K\n",
       "34529      >50K\n",
       "Name: salary, Length: 34530, dtype: object"
      ]
     },
     "execution_count": 151,
     "metadata": {},
     "output_type": "execute_result"
    }
   ],
   "source": [
    "y_new"
   ]
  },
  {
   "cell_type": "code",
   "execution_count": 145,
   "metadata": {},
   "outputs": [],
   "source": [
    "y_new_df = pd.DataFrame(y_new)\n",
    "x_frame = [X_new,y_new_df]\n",
    "fianl_train_dataframe = pd.concat(x_frame,axis= 1)"
   ]
  },
  {
   "cell_type": "code",
   "execution_count": 149,
   "metadata": {},
   "outputs": [
    {
     "data": {
      "text/plain": [
       "(34530, 15)"
      ]
     },
     "execution_count": 149,
     "metadata": {},
     "output_type": "execute_result"
    }
   ],
   "source": [
    "fianl_train_dataframe.shape"
   ]
  },
  {
   "cell_type": "code",
   "execution_count": 147,
   "metadata": {},
   "outputs": [
    {
     "data": {
      "text/plain": [
       "array([[-0.3347708831314897, -1.2612917773869472, -0.4232189422101526,\n",
       "        ..., 7533.0, 20363.0, ' <=50K'],\n",
       "       [0.6912231768662134, 0.5106424192459057, -0.035377434797752544,\n",
       "        ..., 15259.0, 20363.0, ' >50K'],\n",
       "       [-1.140909073129685, -1.2618408591539128, -0.035377434797752544,\n",
       "        ..., 15259.0, 20363.0, ' <=50K'],\n",
       "       ...,\n",
       "       [0.984364336865557, -0.24194041086947152, -0.4232189422101526,\n",
       "        ..., 15259.0, 20363.0, ' >50K'],\n",
       "       [0.10494085686752587, -0.7403930521499742, 1.1281470874394477,\n",
       "        ..., 15259.0, 20363.0, ' >50K'],\n",
       "       [-0.3347708831314897, -0.28813901471070935, -0.4232189422101526,\n",
       "        ..., 15259.0, 20363.0, ' >50K']], dtype=object)"
      ]
     },
     "execution_count": 147,
     "metadata": {},
     "output_type": "execute_result"
    }
   ],
   "source": [
    "np.array(fianl_train_dataframe)"
   ]
  },
  {
   "cell_type": "code",
   "execution_count": 148,
   "metadata": {},
   "outputs": [
    {
     "name": "stdout",
     "output_type": "stream",
     "text": [
      "[[-0.3347708831314897 -1.2612917773869472 -0.4232189422101526 ... 7533.0\n",
      "  20363.0 ' <=50K']\n",
      " [0.6912231768662134 0.5106424192459057 -0.035377434797752544 ... 15259.0\n",
      "  20363.0 ' >50K']\n",
      " [-1.140909073129685 -1.2618408591539128 -0.035377434797752544 ...\n",
      "  15259.0 20363.0 ' <=50K']\n",
      " ...\n",
      " [-1.5073355231288645 0.2517503661216577 -1.1989019570349528 ... 7533.0\n",
      "  20363.0 ' <=50K']\n",
      " [0.8377937568658852 -1.2821095498965542 -0.4232189422101526 ... 15259.0\n",
      "  20363.0 ' <=50K']\n",
      " [-0.3347708831314897 -0.587331776144824 1.1281470874394477 ... 15259.0\n",
      "  20363.0 ' <=50K']]\n"
     ]
    }
   ],
   "source": [
    "print(train_arr)"
   ]
  },
  {
   "cell_type": "code",
   "execution_count": 150,
   "metadata": {},
   "outputs": [
    {
     "data": {
      "text/plain": [
       "(22792, 15)"
      ]
     },
     "execution_count": 150,
     "metadata": {},
     "output_type": "execute_result"
    }
   ],
   "source": [
    "train_arr.shape"
   ]
  },
  {
   "cell_type": "code",
   "execution_count": null,
   "metadata": {},
   "outputs": [],
   "source": []
  }
 ],
 "metadata": {
  "kernelspec": {
   "display_name": "Python 3.7.13 ('censusincmepred')",
   "language": "python",
   "name": "python3"
  },
  "language_info": {
   "codemirror_mode": {
    "name": "ipython",
    "version": 3
   },
   "file_extension": ".py",
   "mimetype": "text/x-python",
   "name": "python",
   "nbconvert_exporter": "python",
   "pygments_lexer": "ipython3",
   "version": "3.7.13"
  },
  "orig_nbformat": 4,
  "vscode": {
   "interpreter": {
    "hash": "25581f5fba9f5de6c9308397fd7488b6779a9f3994717f105402f4a6e2ba4540"
   }
  }
 },
 "nbformat": 4,
 "nbformat_minor": 2
}
