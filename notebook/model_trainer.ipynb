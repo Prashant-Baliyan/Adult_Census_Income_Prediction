{
 "cells": [
  {
   "cell_type": "code",
   "execution_count": 1,
   "metadata": {},
   "outputs": [],
   "source": [
    "from incomeprediction.component.data_transformation import datatransformation\n",
    "from incomeprediction.component.model_trainer import ModelTrainer\n",
    "from incomeprediction.entity.artifact_entity import *\n",
    "from incomeprediction.entity.config_entity import *\n",
    "from incomeprediction.config.configuration import *"
   ]
  },
  {
   "cell_type": "code",
   "execution_count": 2,
   "metadata": {},
   "outputs": [],
   "source": [
    "modeltraner= ModelTrainer(model_trainer_config = ModelTrainerConfig, data_transformation_artifact= DataTransformationArtifact)"
   ]
  },
  {
   "cell_type": "code",
   "execution_count": 3,
   "metadata": {},
   "outputs": [],
   "source": [
    "import numpy as np\n",
    "def load_numpy_array_data(file_path: str) -> np.array:\n",
    "    \"\"\"\n",
    "    load numpy array data from file\n",
    "    file_path: str location of file to load\n",
    "    return: np.array data loaded\n",
    "    \"\"\"\n",
    "    with open(file_path, 'rb') as file_obj:\n",
    "        return np.load(file_obj, allow_pickle=True)"
   ]
  },
  {
   "cell_type": "code",
   "execution_count": 4,
   "metadata": {},
   "outputs": [],
   "source": [
    "import os\n",
    "transformed_train_dir  = \"train\"\n",
    "train_file_path = \"D:\\\\Ineuron\\\\Project\\\\Adult_Census_Income_Prediction\\\\incomeprediction\\\\artifact\\\\data_ingestion\\\\22-08-22--21-51-21\\\\ingested_data\\\\train\\\\adultincomeprediction.csv\"\n",
    "train_file_name = os.path.basename(train_file_path).replace(\".csv\",\".npz\")"
   ]
  },
  {
   "cell_type": "code",
   "execution_count": 5,
   "metadata": {},
   "outputs": [
    {
     "name": "stdout",
     "output_type": "stream",
     "text": [
      "adultincomeprediction.npz\n"
     ]
    }
   ],
   "source": [
    "print(train_file_name)"
   ]
  },
  {
   "cell_type": "code",
   "execution_count": 6,
   "metadata": {},
   "outputs": [
    {
     "data": {
      "text/plain": [
       "'train'"
      ]
     },
     "execution_count": 6,
     "metadata": {},
     "output_type": "execute_result"
    }
   ],
   "source": [
    "transformed_train_dir"
   ]
  },
  {
   "cell_type": "code",
   "execution_count": 7,
   "metadata": {},
   "outputs": [],
   "source": [
    "transformed_train_file_path = os.path.join(transformed_train_dir, train_file_name)"
   ]
  },
  {
   "cell_type": "code",
   "execution_count": 8,
   "metadata": {},
   "outputs": [
    {
     "data": {
      "text/plain": [
       "'train\\\\adultincomeprediction.npz'"
      ]
     },
     "execution_count": 8,
     "metadata": {},
     "output_type": "execute_result"
    }
   ],
   "source": [
    "transformed_train_file_path"
   ]
  },
  {
   "cell_type": "code",
   "execution_count": 9,
   "metadata": {},
   "outputs": [],
   "source": [
    "transformed_train_file_path = \"D:\\\\Ineuron\\\\Project\\\\Adult_Census_Income_Prediction\\\\incomeprediction\\\\artifact\\\\transformed_data\\\\train\\\\adultincomeprediction.npz\""
   ]
  },
  {
   "cell_type": "code",
   "execution_count": 10,
   "metadata": {},
   "outputs": [
    {
     "name": "stdout",
     "output_type": "stream",
     "text": [
      "<class 'incomeprediction.entity.artifact_entity.DataTransformationArtifact'>\n"
     ]
    }
   ],
   "source": [
    "print(DataTransformationArtifact)"
   ]
  },
  {
   "cell_type": "code",
   "execution_count": 11,
   "metadata": {},
   "outputs": [
    {
     "data": {
      "text/plain": [
       "'D:\\\\Ineuron\\\\Project\\\\Adult_Census_Income_Prediction\\\\incomeprediction\\\\artifact\\\\transformed_data\\\\train\\\\adultincomeprediction.npz'"
      ]
     },
     "execution_count": 11,
     "metadata": {},
     "output_type": "execute_result"
    }
   ],
   "source": [
    "transformed_train_file_path"
   ]
  },
  {
   "cell_type": "code",
   "execution_count": 12,
   "metadata": {},
   "outputs": [],
   "source": [
    "train_array = load_numpy_array_data(file_path=transformed_train_file_path)"
   ]
  },
  {
   "cell_type": "code",
   "execution_count": 13,
   "metadata": {},
   "outputs": [
    {
     "data": {
      "text/plain": [
       "array([[-0.3347708831314897, -1.2612917773869472, -0.4232189422101526,\n",
       "        ..., 7533.0, 20363.0, ' <=50K'],\n",
       "       [0.6912231768662134, 0.5106424192459057, -0.035377434797752544,\n",
       "        ..., 15259.0, 20363.0, ' >50K'],\n",
       "       [-1.140909073129685, -1.2618408591539128, -0.035377434797752544,\n",
       "        ..., 15259.0, 20363.0, ' <=50K'],\n",
       "       ...,\n",
       "       [0.984364336865557, -0.24194041086947152, -0.4232189422101526,\n",
       "        ..., 15259.0, 20363.0, ' >50K'],\n",
       "       [0.10494085686752587, -0.7403930521499742, 1.1281470874394477,\n",
       "        ..., 15259.0, 20363.0, ' >50K'],\n",
       "       [-0.3347708831314897, -0.28813901471070935, -0.4232189422101526,\n",
       "        ..., 15259.0, 20363.0, ' >50K']], dtype=object)"
      ]
     },
     "execution_count": 13,
     "metadata": {},
     "output_type": "execute_result"
    }
   ],
   "source": [
    "train_array"
   ]
  },
  {
   "cell_type": "code",
   "execution_count": null,
   "metadata": {},
   "outputs": [],
   "source": []
  }
 ],
 "metadata": {
  "kernelspec": {
   "display_name": "Python 3.7.13 ('censusincmepred')",
   "language": "python",
   "name": "python3"
  },
  "language_info": {
   "codemirror_mode": {
    "name": "ipython",
    "version": 3
   },
   "file_extension": ".py",
   "mimetype": "text/x-python",
   "name": "python",
   "nbconvert_exporter": "python",
   "pygments_lexer": "ipython3",
   "version": "3.7.13"
  },
  "orig_nbformat": 4,
  "vscode": {
   "interpreter": {
    "hash": "25581f5fba9f5de6c9308397fd7488b6779a9f3994717f105402f4a6e2ba4540"
   }
  }
 },
 "nbformat": 4,
 "nbformat_minor": 2
}
